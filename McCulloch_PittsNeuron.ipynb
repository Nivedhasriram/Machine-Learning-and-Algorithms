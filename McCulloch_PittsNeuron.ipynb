{
  "nbformat": 4,
  "nbformat_minor": 0,
  "metadata": {
    "colab": {
      "provenance": [],
      "authorship_tag": "ABX9TyN2bG+8wPe3Dkrucy1GZYqx",
      "include_colab_link": true
    },
    "kernelspec": {
      "name": "python3",
      "display_name": "Python 3"
    },
    "language_info": {
      "name": "python"
    }
  },
  "cells": [
    {
      "cell_type": "markdown",
      "metadata": {
        "id": "view-in-github",
        "colab_type": "text"
      },
      "source": [
        "<a href=\"https://colab.research.google.com/github/Nivedhasriram/Machine-Learning-and-Algorithms/blob/main/McCulloch_PittsNeuron.ipynb\" target=\"_parent\"><img src=\"https://colab.research.google.com/assets/colab-badge.svg\" alt=\"Open In Colab\"/></a>"
      ]
    },
    {
      "cell_type": "code",
      "execution_count": 1,
      "metadata": {
        "id": "uzGK87-shTn2"
      },
      "outputs": [],
      "source": [
        "from tabulate import tabulate"
      ]
    },
    {
      "cell_type": "markdown",
      "source": [
        "1. AND Gate"
      ],
      "metadata": {
        "id": "9fBvJNeBhh7D"
      }
    },
    {
      "cell_type": "code",
      "source": [
        "x1 = [0,0,1,1]\n",
        "x2 = [0,1,0,1]\n",
        "w1 = [1,1,1,1]\n",
        "w2 = [1,1,1,1]\n",
        "Y = [0,0,0,1]\n",
        "t = 2"
      ],
      "metadata": {
        "id": "1Rx-3Ea3hmfj"
      },
      "execution_count": 7,
      "outputs": []
    },
    {
      "cell_type": "code",
      "source": [
        "print('x1  x2  w1  w2  t   Y  target')\n",
        "for i in range (len(x1)):\n",
        "  if(x1[i]*w1[i] + x2[i]*w2[i]) >= t:\n",
        "    print(x1[i],' ',x2[i],' ',w1[i],' ',w2[i],' ',t,' ',Y[i],' ',1)\n",
        "  else:\n",
        "    print(x1[i],' ',x2[i],' ',w1[i],' ',w2[i],' ',t,' ',Y[i],' ',0)"
      ],
      "metadata": {
        "colab": {
          "base_uri": "https://localhost:8080/"
        },
        "id": "1-cQ2-X4h5mu",
        "outputId": "c1e256a7-94fb-482a-d777-df5ee308496f"
      },
      "execution_count": 10,
      "outputs": [
        {
          "output_type": "stream",
          "name": "stdout",
          "text": [
            "x1  x2  w1  w2  t   Y  target\n",
            "0   0   1   1   2   0   0\n",
            "0   1   1   1   2   0   0\n",
            "1   0   1   1   2   0   0\n",
            "1   1   1   1   2   1   1\n"
          ]
        }
      ]
    },
    {
      "cell_type": "markdown",
      "source": [
        "2. OR Gate"
      ],
      "metadata": {
        "id": "Zm9zYcE_jVxX"
      }
    },
    {
      "cell_type": "code",
      "source": [
        "x1 = [0,0,1,1]\n",
        "x2 = [0,1,0,1]\n",
        "w1 = [1,1,1,1]\n",
        "w2 = [1,1,1,1]\n",
        "Y = [0,1,1,1]\n",
        "t = 1"
      ],
      "metadata": {
        "id": "dCWbKqe5jccF"
      },
      "execution_count": 11,
      "outputs": []
    },
    {
      "cell_type": "code",
      "source": [
        "print('x1  x2  w1  w2  t   Y  target')\n",
        "for i in range (len(x1)):\n",
        "  if(x1[i]*w1[i] + x2[i]*w2[i]) >= t:\n",
        "    print(x1[i],' ',x2[i],' ',w1[i],' ',w2[i],' ',t,' ',Y[i],' ',1)\n",
        "  else:\n",
        "    print(x1[i],' ',x2[i],' ',w1[i],' ',w2[i],' ',t,' ',Y[i],' ',0)"
      ],
      "metadata": {
        "colab": {
          "base_uri": "https://localhost:8080/"
        },
        "id": "hZ9zUcmnjma8",
        "outputId": "f976ec5c-9883-4454-c705-285ca9ebf3c4"
      },
      "execution_count": 12,
      "outputs": [
        {
          "output_type": "stream",
          "name": "stdout",
          "text": [
            "x1  x2  w1  w2  t   Y  target\n",
            "0   0   1   1   1   0   0\n",
            "0   1   1   1   1   1   1\n",
            "1   0   1   1   1   1   1\n",
            "1   1   1   1   1   1   1\n"
          ]
        }
      ]
    },
    {
      "cell_type": "markdown",
      "source": [
        "3. NOT Gate"
      ],
      "metadata": {
        "id": "jYVd8VeQjp8U"
      }
    },
    {
      "cell_type": "code",
      "source": [
        "x = [0,1]\n",
        "w = [-1,-1]\n",
        "Y = [1,0]\n",
        "t = 0"
      ],
      "metadata": {
        "id": "7CI8eMvyjuVT"
      },
      "execution_count": 15,
      "outputs": []
    },
    {
      "cell_type": "code",
      "source": [
        "print('x    w   t   Y  target')\n",
        "for i in range (len(x1)):\n",
        "  if(x[i]*w[i]) >= t:\n",
        "    print(x[i],' ',w[i],' ',t,' ',Y[i],' ',1)\n",
        "  else:\n",
        "    print(x[i],' ',w[i],' ',t,' ',Y[i],' ',0)"
      ],
      "metadata": {
        "colab": {
          "base_uri": "https://localhost:8080/"
        },
        "id": "OpHnIA2vj9H1",
        "outputId": "d6c0d8bd-f35d-4cdc-b46d-2892cb6b4f3a"
      },
      "execution_count": 18,
      "outputs": [
        {
          "output_type": "stream",
          "name": "stdout",
          "text": [
            "x    w   t   Y  target\n",
            "0   -1   0   1   1\n",
            "1   -1   0   0   0\n"
          ]
        }
      ]
    },
    {
      "cell_type": "markdown",
      "source": [
        "4. NAND Gate"
      ],
      "metadata": {
        "id": "DgueeQNakmBB"
      }
    },
    {
      "cell_type": "code",
      "source": [
        "x1 = [0,0,1,1]\n",
        "x2 = [0,1,0,1]\n",
        "w1 = [-1,-1,-1,-1]\n",
        "w2 = [-1,-1,-1,-1]\n",
        "Y = [1,1,1,0]\n",
        "t = -2"
      ],
      "metadata": {
        "id": "RbBjjlx5kpNQ"
      },
      "execution_count": 31,
      "outputs": []
    },
    {
      "cell_type": "code",
      "source": [
        "print('x1  x2  w1   w2    t   Y  target')\n",
        "for i in range (len(x1)):\n",
        "  if(x1[i]*w1[i] + x2[i]*w2[i]) > t:\n",
        "    print(x1[i],' ',x2[i],' ',w1[i],' ',w2[i],' ',t,' ',Y[i],' ',1)\n",
        "  else:\n",
        "    print(x1[i],' ',x2[i],' ',w1[i],' ',w2[i],' ',t,' ',Y[i],' ',0)"
      ],
      "metadata": {
        "colab": {
          "base_uri": "https://localhost:8080/"
        },
        "id": "qq9Di-ZSkwT-",
        "outputId": "f921872d-414c-4ea9-adcd-3e414e34a9f5"
      },
      "execution_count": 32,
      "outputs": [
        {
          "output_type": "stream",
          "name": "stdout",
          "text": [
            "x1  x2  w1   w2    t   Y  target\n",
            "0   0   -1   -1   -2   1   1\n",
            "0   1   -1   -1   -2   1   1\n",
            "1   0   -1   -1   -2   1   1\n",
            "1   1   -1   -1   -2   0   0\n"
          ]
        }
      ]
    },
    {
      "cell_type": "markdown",
      "source": [
        "5. NOR Gate"
      ],
      "metadata": {
        "id": "uspFod5Oljlf"
      }
    },
    {
      "cell_type": "code",
      "source": [
        "x1 = [0,0,1,1]\n",
        "x2 = [0,1,0,1]\n",
        "w1 = [1,1,1,1]\n",
        "w2 = [1,1,1,1]\n",
        "Y = [1,0,0,0]\n",
        "t = 0"
      ],
      "metadata": {
        "id": "v9Q_Awf7lmp3"
      },
      "execution_count": 38,
      "outputs": []
    },
    {
      "cell_type": "code",
      "source": [
        "print('x1  x2  w1  w2  t   Y  target')\n",
        "for i in range (len(x1)):\n",
        "  if(x1[i]*w1[i] + x2[i]*w2[i]) <= t:\n",
        "    print(x1[i],' ',x2[i],' ',w1[i],' ',w2[i],' ',t,' ',Y[i],' ',1)\n",
        "  else:\n",
        "    print(x1[i],' ',x2[i],' ',w1[i],' ',w2[i],' ',t,' ',Y[i],' ',0)"
      ],
      "metadata": {
        "colab": {
          "base_uri": "https://localhost:8080/"
        },
        "id": "fud792_KlzEU",
        "outputId": "979afe20-8db9-47d4-ff0d-183acf0d3f17"
      },
      "execution_count": 39,
      "outputs": [
        {
          "output_type": "stream",
          "name": "stdout",
          "text": [
            "x1  x2  w1  w2  t   Y  target\n",
            "0   0   1   1   0   1   1\n",
            "0   1   1   1   0   0   0\n",
            "1   0   1   1   0   0   0\n",
            "1   1   1   1   0   0   0\n"
          ]
        }
      ]
    },
    {
      "cell_type": "markdown",
      "source": [
        "6. XOR Gate"
      ],
      "metadata": {
        "id": "pFJuuiQQmStp"
      }
    },
    {
      "cell_type": "code",
      "source": [
        "x1 = [0,0,1,1]\n",
        "x2 = [0,1,0,1]\n",
        "w1 = [1,1,1,1]\n",
        "w2 = [1,1,1,1]\n",
        "w3 = [1,1,1,1]\n",
        "w4 = [-1,-1,-1,-1]\n",
        "w5 = [-1,-1,-1,-1]\n",
        "w6 = [1,1,1,1]\n",
        "Y = [0,1,1,0]\n",
        "t1 = 0.5\n",
        "t2 = -1.5\n",
        "t3 = 1.5"
      ],
      "metadata": {
        "id": "YwHx2BN_mWBS"
      },
      "execution_count": 44,
      "outputs": []
    },
    {
      "cell_type": "code",
      "source": [
        "def XOR(a,b):\n",
        "  if(a != b):\n",
        "    return 1\n",
        "  else:\n",
        "    return 0\n",
        "\n",
        "print('x1  x2  w1  w2  w3  w4   w5  w6    t1    t2    t3    Y  target')\n",
        "for i in range (len(x1)):\n",
        "    print(x1[i],' ',x2[i],' ',w1[i],' ',w2[i],' ',w3[i],' ',w4[i],' ',w5[i],' ',w6[i],' ',t1,' ',t2,' ',t3,' ',Y[i],' ',XOR(x1[i],x2[i]))"
      ],
      "metadata": {
        "colab": {
          "base_uri": "https://localhost:8080/"
        },
        "id": "qy21lTYcmcRi",
        "outputId": "673ee8db-428a-4e88-af4f-0b714b37ab88"
      },
      "execution_count": 53,
      "outputs": [
        {
          "output_type": "stream",
          "name": "stdout",
          "text": [
            "x1  x2  w1  w2  w3  w4   w5  w6    t1    t2    t3    Y  target\n",
            "0   0   1   1   1   -1   -1   1   0.5   -1.5   1.5   0   0\n",
            "0   1   1   1   1   -1   -1   1   0.5   -1.5   1.5   1   1\n",
            "1   0   1   1   1   -1   -1   1   0.5   -1.5   1.5   1   1\n",
            "1   1   1   1   1   -1   -1   1   0.5   -1.5   1.5   0   0\n"
          ]
        }
      ]
    },
    {
      "cell_type": "code",
      "source": [],
      "metadata": {
        "id": "qDscDDgbmfPg"
      },
      "execution_count": null,
      "outputs": []
    }
  ]
}